{
 "cells": [
  {
   "cell_type": "markdown",
   "id": "468fca77-6de1-4e23-b92f-66d16bcfe84f",
   "metadata": {},
   "source": [
    "1. Write a Python program to print the numbers from 1 to 10 using a for loop.\n",
    "   \n",
    "\n",
    "                                                                   "
   ]
  },
  {
   "cell_type": "code",
   "execution_count": 1,
   "id": "05905159-7884-4319-b363-f402e194fa24",
   "metadata": {},
   "outputs": [
    {
     "name": "stdout",
     "output_type": "stream",
     "text": [
      "1\n",
      "2\n",
      "3\n",
      "4\n",
      "5\n",
      "6\n",
      "7\n",
      "8\n",
      "9\n",
      "10\n"
     ]
    }
   ],
   "source": [
    "for i in range(1, 11):\n",
    "    print(i)\n"
   ]
  },
  {
   "cell_type": "markdown",
   "id": "79bec5e3-10cb-4bae-afbb-db35d547ff93",
   "metadata": {},
   "source": [
    "2. Write a Python program to print the numbers from 20 to 1 using a while loop."
   ]
  },
  {
   "cell_type": "code",
   "execution_count": 2,
   "id": "62ab8b1a-c7d8-4dcf-9c45-3d1dc7ad9030",
   "metadata": {},
   "outputs": [
    {
     "name": "stdout",
     "output_type": "stream",
     "text": [
      "20\n",
      "19\n",
      "18\n",
      "17\n",
      "16\n",
      "15\n",
      "14\n",
      "13\n",
      "12\n",
      "11\n",
      "10\n",
      "9\n",
      "8\n",
      "7\n",
      "6\n",
      "5\n",
      "4\n",
      "3\n",
      "2\n",
      "1\n"
     ]
    }
   ],
   "source": [
    "i = 20\n",
    "while i >= 1:\n",
    "    print(i)\n",
    "    i -= 1\n"
   ]
  },
  {
   "cell_type": "markdown",
   "id": "d2cda27f-46e6-432a-9608-fdc4e1837e0e",
   "metadata": {},
   "source": [
    "3. Write a program to print even numbers from 1 to 10."
   ]
  },
  {
   "cell_type": "code",
   "execution_count": 3,
   "id": "7777706a-8dda-4715-bdae-af3d14146eb1",
   "metadata": {},
   "outputs": [
    {
     "name": "stdout",
     "output_type": "stream",
     "text": [
      "2\n",
      "4\n",
      "6\n",
      "8\n",
      "10\n"
     ]
    }
   ],
   "source": [
    "for i in range(2, 11, 2):\n",
    "    print(i)\n"
   ]
  },
  {
   "cell_type": "markdown",
   "id": "f9671827-c1e5-48a0-babd-b58f58ba9739",
   "metadata": {},
   "source": [
    "4. Write a program that prompts the user to enter a number n and prints all the numbers from 1 to n."
   ]
  },
  {
   "cell_type": "code",
   "execution_count": null,
   "id": "3c65adb1-0da8-4ca4-9e57-841a85e77199",
   "metadata": {},
   "outputs": [],
   "source": [
    "\n",
    "n = int(input())\n",
    "for i in range(1, n + 1):\n",
    "    print(i)\n",
    "\n"
   ]
  },
  {
   "cell_type": "markdown",
   "id": "59fb0901-8a5e-43ce-891f-6405bee9dd22",
   "metadata": {},
   "source": [
    "5. Write a program that prompts the user to enter a number n, and then prints all the odd numbers between 1 and n."
   ]
  },
  {
   "cell_type": "code",
   "execution_count": 1,
   "id": "34972669-a491-460d-8802-486042828ab8",
   "metadata": {},
   "outputs": [
    {
     "name": "stdout",
     "output_type": "stream",
     "text": [
      "1\n",
      "3\n",
      "5\n",
      "7\n",
      "9\n",
      "11\n",
      "13\n",
      "15\n",
      "17\n",
      "19\n",
      "21\n",
      "23\n",
      "25\n",
      "27\n",
      "29\n",
      "31\n",
      "33\n",
      "35\n",
      "37\n",
      "39\n",
      "41\n",
      "43\n",
      "45\n",
      "47\n",
      "49\n",
      "51\n",
      "53\n",
      "55\n",
      "57\n",
      "59\n",
      "61\n",
      "63\n",
      "65\n",
      "67\n",
      "69\n",
      "71\n",
      "73\n",
      "75\n",
      "77\n",
      "79\n",
      "81\n",
      "83\n",
      "85\n",
      "87\n",
      "89\n",
      "91\n",
      "93\n",
      "95\n",
      "97\n",
      "99\n"
     ]
    }
   ],
   "source": [
    "n = int(input())\n",
    "for i in range(1,n + 1):\n",
    "    if i % 2 != 0:\n",
    "        print(i)\n",
    "\n"
   ]
  },
  {
   "cell_type": "markdown",
   "id": "acc395ad-9abf-485c-b658-50cd33d80069",
   "metadata": {},
   "source": [
    "6. Write a program that prints 'Happy Birthday!' five times on screen."
   ]
  },
  {
   "cell_type": "code",
   "execution_count": 2,
   "id": "d477685a-0606-4f37-a568-6737cc7acc29",
   "metadata": {},
   "outputs": [
    {
     "name": "stdout",
     "output_type": "stream",
     "text": [
      "Happy Birthday!\n",
      "Happy Birthday!\n",
      "Happy Birthday!\n",
      "Happy Birthday!\n",
      "Happy Birthday!\n"
     ]
    }
   ],
   "source": [
    "for i in range(5):\n",
    "    print(\"Happy Birthday!\")\n"
   ]
  },
  {
   "cell_type": "markdown",
   "id": "7e220dce-6e59-44ba-8b4b-e1aee1d81203",
   "metadata": {},
   "source": [
    "7. Write a program that takes a number n as input from the user and generates the first n terms of the series formed by squaring the natural numbers.\n",
    "\n",
    "**Sample output**\n",
    "Enter a number: 6\n",
    "The first 6 terms of the series are:\n",
    "1 4 9 16 25 36"
   ]
  },
  {
   "cell_type": "code",
   "execution_count": null,
   "id": "b610a29d-18f8-418d-ba0b-e796d06aa85e",
   "metadata": {},
   "outputs": [],
   "source": [
    "n = int(input())\n",
    "for i in range(1, n + 1):\n",
    "    print(i * i, end=' ')\n"
   ]
  },
  {
   "cell_type": "markdown",
   "id": "37874bd5-8dc2-42dc-ad40-f6ba9e95d092",
   "metadata": {},
   "source": [
    "8. Write a program that prompts the user to input a number and prints its multiplication table."
   ]
  },
  {
   "cell_type": "code",
   "execution_count": null,
   "id": "52a4094a-2be5-4495-ba74-961b9e71894e",
   "metadata": {},
   "outputs": [
    {
     "name": "stdout",
     "output_type": "stream",
     "text": [
      " 21\n"
     ]
    },
    {
     "name": "stdout",
     "output_type": "stream",
     "text": [
      "21 x 1 = 21\n",
      "21 x 2 = 42\n",
      "21 x 3 = 63\n",
      "21 x 4 = 84\n",
      "21 x 5 = 105\n",
      "21 x 6 = 126\n",
      "21 x 7 = 147\n",
      "21 x 8 = 168\n",
      "21 x 9 = 189\n",
      "21 x 10 = 210\n"
     ]
    }
   ],
   "source": [
    "n = int(input())\n",
    "for i in range(1, 11):\n",
    "    print(f\"{n} x {i} = {n * i}\")\n"
   ]
  },
  {
   "cell_type": "markdown",
   "id": "4b0fe9f1-d36e-4f32-afbd-f37140cf8636",
   "metadata": {},
   "source": [
    "9. Write a Python program to print the first 8 terms of an arithmetic progression starting with 3 and having a common difference of 4. \n",
    "The program should output the following sequence:\n",
    "3 7 11 15 19 23 27 31"
   ]
  },
  {
   "cell_type": "code",
   "execution_count": null,
   "id": "5517fc1e-15a8-4228-a446-bda6bd5901ba",
   "metadata": {},
   "outputs": [
    {
     "name": "stdout",
     "output_type": "stream",
     "text": [
      "3 7 11 15 19 23 27 31 "
     ]
    }
   ],
   "source": [
    "a = 3\n",
    "d = 4\n",
    "for i in range(8):\n",
    "    print(a + i * d, end=' ')\n"
   ]
  },
  {
   "cell_type": "markdown",
   "id": "e8e9107e-2e5a-4adc-ae5c-3d62f8ca31ed",
   "metadata": {},
   "source": [
    "10. Write a Python program to print the first 6 terms of a geometric sequence starting with 2 and having a common ratio of 3. \n",
    "The program should output the following sequence:\n",
    "2 6 18 54 162 486"
   ]
  },
  {
   "cell_type": "code",
   "execution_count": null,
   "id": "8c1a33c8-9355-4884-8587-703b11f03239",
   "metadata": {},
   "outputs": [
    {
     "name": "stdout",
     "output_type": "stream",
     "text": [
      "2 6 18 54 162 486 "
     ]
    }
   ],
   "source": [
    "a = 2\n",
    "r = 3\n",
    "for i in range(6):\n",
    "    print(a * (r ** i), end=' ')\n"
   ]
  },
  {
   "cell_type": "markdown",
   "id": "476f8cc1-1034-438b-b336-a24cce300178",
   "metadata": {},
   "source": [
    "11. Write a program that asks the user for a positive integer value. The program should calculate the sum of all the integers from 1 up to the number entered. For example, if the user enters 20, the loop will find the sum of 1, 2, 3, 4, ... 20."
   ]
  },
  {
   "cell_type": "code",
   "execution_count": null,
   "id": "541cb391-4b17-476f-a793-776f6c5a0995",
   "metadata": {},
   "outputs": [
    {
     "name": "stdout",
     "output_type": "stream",
     "text": [
      " 22\n"
     ]
    },
    {
     "name": "stdout",
     "output_type": "stream",
     "text": [
      "253\n"
     ]
    }
   ],
   "source": [
    "n = int(input())\n",
    "total = 0\n",
    "for i in range(1, n + 1):\n",
    "    total += i\n",
    "print(total)\n"
   ]
  },
  {
   "cell_type": "markdown",
   "id": "878c3b95-69ab-48bc-b83b-3f2f00b867c3",
   "metadata": {},
   "source": [
    "12. Write a program that takes a positive integer N as input and calculates the sum of the reciprocals of all numbers from 1 up to N. The program should display the final sum.\n",
    "\n",
    "Output of the program should be like:\n",
    "Enter a positive integer: 5\n",
    "The sum of reciprocals from 1 to 5 is: 2.28"
   ]
  },
  {
   "cell_type": "code",
   "execution_count": null,
   "id": "2e9199aa-ad4d-4674-9fbd-86f3475f2ca6",
   "metadata": {},
   "outputs": [
    {
     "name": "stdout",
     "output_type": "stream",
     "text": [
      " 22\n"
     ]
    },
    {
     "name": "stdout",
     "output_type": "stream",
     "text": [
      "3.690813250217275\n"
     ]
    }
   ],
   "source": [
    "N = int(input())\n",
    "total = 0\n",
    "for i in range(1, N + 1):\n",
    "    total += 1 / i\n",
    "print(total)\n"
   ]
  },
  {
   "cell_type": "markdown",
   "id": "b7978b2e-d1d8-4403-9aba-59c2baf69212",
   "metadata": {},
   "source": [
    "13. Write a program that prompts the user to enter a number and repeats this process 5 times. The program should accumulate the numbers entered and then display the final running total. \n",
    "\n",
    "Sample Output:\n",
    "Enter a number: 10\n",
    "Enter a number: 15\n",
    "Enter a number: 35\n",
    "Enter a number: 40\n",
    "Enter a number: 50\n",
    "The final running total is: 150"
   ]
  },
  {
   "cell_type": "code",
   "execution_count": null,
   "id": "8103ca43-f831-402b-9ec1-7e982ecd83e6",
   "metadata": {},
   "outputs": [
    {
     "name": "stdout",
     "output_type": "stream",
     "text": [
      " 22\n",
      " 22\n",
      " 22\n",
      " 11\n",
      " 11\n"
     ]
    },
    {
     "name": "stdout",
     "output_type": "stream",
     "text": [
      "The final running total is: 88\n"
     ]
    }
   ],
   "source": [
    "total = 0\n",
    "for _ in range(5):\n",
    "    num = int(input())\n",
    "    total += num\n",
    "print(\"The final running total is:\", total)\n"
   ]
  },
  {
   "cell_type": "markdown",
   "id": "ef4a9310-816c-4952-bf93-186ea938e3ec",
   "metadata": {},
   "source": [
    "14.  Write a program that prompts the user to enter a positive integer and calculates its factorial. The factorial of a positive integer 'n' is denoted as 'n!' and is calculated by multiplying all the integers from 1 to 'n' together. For example, the factorial of 5 (denoted as 5!) is calculated as 1 x 2 x 3 x 4 x 5. \n",
    "\n",
    "The program should display the factorial value if the input is a positive number, or display a message stating that the factorial does not exist for negative numbers. Additionally, for an input of zero, the program should output that the factorial of 0 is 1."
   ]
  },
  {
   "cell_type": "code",
   "execution_count": null,
   "id": "41565bc3-576d-431a-9f95-c377ee7146fc",
   "metadata": {},
   "outputs": [
    {
     "name": "stdout",
     "output_type": "stream",
     "text": [
      "Enter a positive integer:  22\n"
     ]
    },
    {
     "name": "stdout",
     "output_type": "stream",
     "text": [
      "The factorial of 22 is 1124000727777607680000.\n"
     ]
    }
   ],
   "source": [
    "n = int(input(\"Enter a positive integer: \"))\n",
    "if n < 0:\n",
    "    print(\"Factorial does not exist for negative numbers.\")\n",
    "elif n == 0:\n",
    "    print(\"The factorial of 0 is 1.\")\n",
    "else:\n",
    "    fact = 1\n",
    "    for i in range(1, n + 1):\n",
    "        fact *= i\n",
    "    print(f\"The factorial of {n} is {fact}.\")\n"
   ]
  },
  {
   "cell_type": "markdown",
   "id": "acfd9dae-3018-48fb-8478-85f791350970",
   "metadata": {},
   "source": [
    "15.  Write a Python program that prompts the user to enter a base number and an exponent, and then calculates the power of the base to the exponent. The program should not use the exponentiation operator (\\*\\*) or the math.pow() function. The program should handle both positive and negative exponents."
   ]
  },
  {
   "cell_type": "code",
   "execution_count": null,
   "id": "3dd233a3-8450-4949-b79e-7535b1546ba9",
   "metadata": {},
   "outputs": [
    {
     "name": "stdout",
     "output_type": "stream",
     "text": [
      "Enter the base number:  22\n",
      "Enter the exponent:  22\n"
     ]
    },
    {
     "name": "stdout",
     "output_type": "stream",
     "text": [
      "22.0 raised to the power of 22 is 3.4142787736421956e+29\n"
     ]
    }
   ],
   "source": [
    "base = float(input(\"Enter the base number: \"))\n",
    "exponent = int(input(\"Enter the exponent: \"))\n",
    "\n",
    "if exponent >= 0:\n",
    "    result = 1\n",
    "    for _ in range(exponent):\n",
    "        result *= base\n",
    "else:\n",
    "    result = 1\n",
    "    for _ in range(abs(exponent)):\n",
    "        result *= base\n",
    "    result = 1 / result\n",
    "\n",
    "print(f\"{base} raised to the power of {exponent} is {result}\")\n"
   ]
  },
  {
   "cell_type": "code",
   "execution_count": null,
   "id": "c3a7ec20-409c-40ec-bc52-87bf0a2c7871",
   "metadata": {},
   "outputs": [],
   "source": []
  }
 ],
 "metadata": {
  "kernelspec": {
   "display_name": "Python 3",
   "language": "python",
   "name": "python3"
  },
  "language_info": {
   "codemirror_mode": {
    "name": "ipython",
    "version": 3
   },
   "file_extension": ".py",
   "mimetype": "text/x-python",
   "name": "python",
   "nbconvert_exporter": "python",
   "pygments_lexer": "ipython3",
   "version": "3.13.5"
  }
 },
 "nbformat": 4,
 "nbformat_minor": 5
}
