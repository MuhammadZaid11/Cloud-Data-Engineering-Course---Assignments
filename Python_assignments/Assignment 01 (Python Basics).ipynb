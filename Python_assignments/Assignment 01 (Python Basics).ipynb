{
 "cells": [
  {
   "cell_type": "markdown",
   "id": "696b03a5-967d-4cb3-9469-ea995f7a11cf",
   "metadata": {},
   "source": [
    "# Part 1"
   ]
  },
  {
   "cell_type": "markdown",
   "id": "2784bb21-0665-4d3e-b85a-d0d8bd845572",
   "metadata": {},
   "source": [
    "1. Print Your Name with your Father name and Date of birth using suitable escape sequence charactor"
   ]
  },
  {
   "cell_type": "code",
   "execution_count": 1,
   "id": "8913598b-4cb7-4e66-a244-d300ec363221",
   "metadata": {},
   "outputs": [
    {
     "name": "stdout",
     "output_type": "stream",
     "text": [
      "Name : Talha Ahmer \n",
      "Father Name : Ahmer Nawaz \n",
      "DOB : 17/02/2006\n"
     ]
    }
   ],
   "source": [
    "print(\"Name : Talha Ahmer \\nFather Name : Ahmer Nawaz \\nDOB : 17/02/2006\")"
   ]
  },
  {
   "cell_type": "markdown",
   "id": "914d0164-151b-4adc-bb62-75e2ef543cdb",
   "metadata": {},
   "source": [
    "2. Write your small bio using variables and print it using print function"
   ]
  },
  {
   "cell_type": "code",
   "execution_count": 2,
   "id": "6e40ec75-53d8-442f-9275-683b9dfa8583",
   "metadata": {},
   "outputs": [
    {
     "name": "stdout",
     "output_type": "stream",
     "text": [
      "My name is Talha Ahmer I study Python in Saylani\n"
     ]
    }
   ],
   "source": [
    "bio = str(\"My name is Talha Ahmer I study Python in Saylani\")\n",
    "print(bio)"
   ]
  },
  {
   "cell_type": "markdown",
   "id": "58ca7653-6d95-4c43-9e36-1b3ff67f6fc4",
   "metadata": {},
   "source": [
    "3. Write a program in which use all the operators we can use in Python"
   ]
  },
  {
   "cell_type": "code",
   "execution_count": null,
   "id": "6cff5165-1b72-4b40-bc32-c26336d53ca8",
   "metadata": {},
   "outputs": [
    {
     "name": "stdout",
     "output_type": "stream",
     "text": [
      "100\n"
     ]
    }
   ],
   "source": [
    "a = 15\n",
    "b = 4\n",
    "print(a + b)\n",
    "print(a - b)\n",
    "print(a * b)\n",
    "print(a / b)\n",
    "print(a // b)\n",
    "print(a % b)\n",
    "print(a ** b)\n",
    "\n",
    "x = 10\n",
    "x += 5; print(x)\n",
    "x -= 3; print(x)\n",
    "x *= 2; print(x)\n",
    "x //= 4; print(x)\n",
    "x %= 3; print(x)\n",
    "x **= 2; print(x)\n",
    "x &= 1; print(x)\n",
    "x |= 2; print(x)\n",
    "x ^= 3; print(x)\n",
    "x <<= 1; print(x)\n",
    "x >>= 2; print(x)\n",
    "\n",
    "p, q = 7, 12\n",
    "print(p == q)\n",
    "print(p != q)\n",
    "print(p < q)\n",
    "print(p <= q)\n",
    "print(p > q)\n",
    "print(p >= q)\n",
    "print(1 < p < 20)\n",
    "\n",
    "T, F = True, False\n",
    "print(T and F)\n",
    "print(T or F)\n",
    "print(not T)\n",
    "\n",
    "m = 10\n",
    "n = 6\n",
    "print(m & n)\n",
    "print(m | n)\n",
    "print(m ^ n)\n",
    "print(~m)\n",
    "print(m << 2)\n",
    "print(m >> 1)\n",
    "\n",
    "seq = [1, 2, 3, \"hello\"]\n",
    "print(2 in seq)\n",
    "print(\"hi\" in seq)\n",
    "print(\"hi\" not in seq)\n",
    "\n",
    "A = [1, 2, 3]\n",
    "B = A\n",
    "C = A.copy()\n",
    "print(A is B)\n",
    "print(A is C)\n",
    "print(A == C)\n",
    "print(A is not C)\n",
    "\n",
    "s1, s2 = \"hello\", \"hello\"\n",
    "print(s1 is s2)\n",
    "\n",
    "age = 20\n",
    "print(\"adult\" if age >= 18 else \"minor\")\n",
    "\n",
    "if (n_items := len(seq)) > 3:\n",
    "    print(n_items)\n",
    "\n",
    "v = 5\n",
    "print(+v)\n",
    "print(-v)\n",
    "\n",
    "s = \"abcdefgh\"\n",
    "print(s[2:6])\n",
    "t = (1, 2)\n",
    "x1, x2 = t\n",
    "print(x1, x2)\n",
    "\n",
    "print(((a + b) ** 2) & 0xff)\n"
   ]
  },
  {
   "cell_type": "markdown",
   "id": "f93d8b25-872d-493d-a3dc-663e5b1c3702",
   "metadata": {},
   "source": [
    "4. Completes the following steps of small task:"
   ]
  },
  {
   "cell_type": "code",
   "execution_count": null,
   "id": "3e566521-177d-406a-85fe-fd7d1d4cbdaf",
   "metadata": {},
   "outputs": [
    {
     "name": "stdout",
     "output_type": "stream",
     "text": [
      "85.0 Percent\n"
     ]
    }
   ],
   "source": [
    "English = 75\n",
    "Islamiyat = 88\n",
    "Maths = 92\n",
    "Total_Marks = 300\n",
    "Subject_Total= (English + Islamiyat + Maths)\n",
    "print(Subject_Total / 300 * 100 ,\"Percent\")"
   ]
  },
  {
   "cell_type": "markdown",
   "id": "1e47de5e-38f2-483a-91ee-43647f41acfd",
   "metadata": {},
   "source": [
    "# Part 2"
   ]
  },
  {
   "cell_type": "markdown",
   "id": "8309479a-81a0-42cc-8877-882d66d79d08",
   "metadata": {},
   "source": [
    "1. A company decided to give bonus of 5% to employee if his/her year of service is more than 5 years. Ask user for their salary and year of service and print the net bonus amount"
   ]
  },
  {
   "cell_type": "code",
   "execution_count": null,
   "id": "90179232-4f94-4227-8d01-c929db2e80e7",
   "metadata": {},
   "outputs": [
    {
     "name": "stdout",
     "output_type": "stream",
     "text": [
      "34.65\n"
     ]
    }
   ],
   "source": [
    "employesalary = int(input(\"Enter Your Salary\"))\n",
    "yearofexperience = int(input(\"Enter Your Year of Experience\"))\n",
    "\n",
    "if yearofexperience > 5:\n",
    "    newsalary = employesalary * 1.05\n",
    "    print(newsalary)\n",
    "else :\n",
    "    print(\"Not Eligible\")"
   ]
  },
  {
   "cell_type": "markdown",
   "id": "a6e7cb68-38dd-494f-a1a7-d1cbfabf69c6",
   "metadata": {},
   "source": [
    "2. Write a program to check whether a person is eligible for voting or not. (accept age from user) if age is greater than 17 eligible otherwise not eligible"
   ]
  },
  {
   "cell_type": "code",
   "execution_count": null,
   "id": "d95d9e57-fcbc-44bc-b17d-680f6455a081",
   "metadata": {},
   "outputs": [
    {
     "name": "stdout",
     "output_type": "stream",
     "text": [
      "Congratulations You are Eligible For Voting\n"
     ]
    }
   ],
   "source": [
    "userage = int(input(\"Enter Your Age\"))\n",
    "if userage > 17:\n",
    "    print(\"Congratulations You are Eligible For Voting\")\n",
    "else :\n",
    "    print(\"Sorry You can't reach the age limit\")"
   ]
  },
  {
   "cell_type": "markdown",
   "id": "6189fd9c-6c5a-4c69-8378-c8b333572cb5",
   "metadata": {},
   "source": [
    "3. Write a program to check whether a number entered by user is even or odd"
   ]
  },
  {
   "cell_type": "code",
   "execution_count": null,
   "id": "880aeff8-8d84-4c79-ae2c-19f54d953ffd",
   "metadata": {},
   "outputs": [
    {
     "name": "stdout",
     "output_type": "stream",
     "text": [
      "3 Is a Odd Number\n"
     ]
    }
   ],
   "source": [
    "number = int(input(\"Enter a Number\"))\n",
    "if number % 2 == 0 :\n",
    "    print(f\"{number} Is an Even Number\")\n",
    "else :\n",
    "    print(f\"{number} Is a Odd Number\")"
   ]
  },
  {
   "cell_type": "markdown",
   "id": "4486acaa-a036-4344-ad00-09a174a8e8c8",
   "metadata": {},
   "source": [
    "4. Write a program to check whether a number is divisible by 7 or not. Show Answer"
   ]
  },
  {
   "cell_type": "code",
   "execution_count": null,
   "id": "2a78cd0f-a597-4931-85d5-771b6052e123",
   "metadata": {},
   "outputs": [
    {
     "name": "stdout",
     "output_type": "stream",
     "text": [
      "3 is not divisible by 7\n"
     ]
    }
   ],
   "source": [
    "number = int(input(\"Enter Number\"))\n",
    "if number % 7 == 0 :\n",
    "    result = number // 7 \n",
    "    print(f\"{number} is divisible by 7 and the answer is\" , result)\n",
    "else :\n",
    "    print(f\"{number} is not divisible by 7\")"
   ]
  },
  {
   "cell_type": "markdown",
   "id": "a67a3426-51b7-4171-96c9-74ba43a255c3",
   "metadata": {},
   "source": [
    "5. Write a program to display \"Hello\" if a number entered by user is a multiple of five , otherwise print \"Bye\"."
   ]
  },
  {
   "cell_type": "code",
   "execution_count": null,
   "id": "8448b37a-65eb-4a47-ad5d-9d3878199304",
   "metadata": {},
   "outputs": [
    {
     "name": "stdout",
     "output_type": "stream",
     "text": [
      "By\n"
     ]
    }
   ],
   "source": [
    "number = int(input(\"Enter Your Number\"))\n",
    "if number % 5 == 0 :\n",
    "    print(\"Hello\")\n",
    "else :\n",
    "    print(\"By\")"
   ]
  },
  {
   "cell_type": "markdown",
   "id": "996daf28-f83a-4124-bd85-4a78056e864d",
   "metadata": {},
   "source": [
    "7. Write a program to display the last digit of a number."
   ]
  },
  {
   "cell_type": "code",
   "execution_count": null,
   "id": "1ad76453-b104-47ad-9a83-df7c0cb3bbde",
   "metadata": {},
   "outputs": [
    {
     "name": "stdout",
     "output_type": "stream",
     "text": [
      "The last digit of 3 is 3.\n"
     ]
    }
   ],
   "source": [
    "number = int(input(\"Enter a number: \"))\n",
    "\n",
    "lastdigit = number % 10\n",
    "\n",
    "print(f\"The last digit of {number} is {lastdigit}.\")\n"
   ]
  },
  {
   "cell_type": "markdown",
   "id": "875578f8-ea3c-4fa4-817d-e387480864cd",
   "metadata": {},
   "source": [
    "9. Take values of length and breadth of a rectangle from user and print if it is square or rectangle."
   ]
  },
  {
   "cell_type": "code",
   "execution_count": 23,
   "id": "d077cbfa-1adf-45be-ac73-09ed1acb1780",
   "metadata": {},
   "outputs": [
    {
     "name": "stdout",
     "output_type": "stream",
     "text": [
      "It is a rectangle\n"
     ]
    }
   ],
   "source": [
    "length = float(input(\"Enter the length: \"))\n",
    "breadth = float(input(\"Enter the breadth: \"))\n",
    "\n",
    "if length == breadth :\n",
    "    print(\"It is a square\")\n",
    "else :\n",
    "    print(\"It is a rectangle\")"
   ]
  },
  {
   "cell_type": "markdown",
   "id": "c0174fec-ad40-4037-bddf-c9869735a1a5",
   "metadata": {},
   "source": [
    "10. Take two int values from user and print greatest among them."
   ]
  },
  {
   "cell_type": "code",
   "execution_count": 24,
   "id": "444a7db3-d138-48d1-ab44-9d28c2ff6426",
   "metadata": {},
   "outputs": [
    {
     "name": "stdout",
     "output_type": "stream",
     "text": [
      "Both Values are equal\n"
     ]
    }
   ],
   "source": [
    "value1 = int(input(\"Enter your first number\"))\n",
    "value2 = int(input(\"Enter your second number\"))\n",
    "if value1 > value2:\n",
    "    print(f\"{value1} is the greatest one\")\n",
    "elif value2 > value1:\n",
    "    print(f\"{value2} is the greatest one\")\n",
    "else:\n",
    "    print(\"Both Values are equal\")"
   ]
  },
  {
   "cell_type": "markdown",
   "id": "441ca091-00fe-4ab5-92ea-2f38be83f03e",
   "metadata": {},
   "source": [
    "11. A shop will give discount of 10% if the cost of purchased quantity is more than 1000. Ask user for quantity Suppose, one unit will cost 100. Judge and print total cost for user."
   ]
  },
  {
   "cell_type": "code",
   "execution_count": 25,
   "id": "934e6f0f-ba50-46f4-a3f3-66a8fe6f4a82",
   "metadata": {},
   "outputs": [
    {
     "name": "stdout",
     "output_type": "stream",
     "text": [
      "No discount applied.\n",
      "Total cost: 300.00\n"
     ]
    }
   ],
   "source": [
    "quantity = int(input(\"Enter the quantity you want to purchase: \"))\n",
    "unit_price = 100\n",
    "total_cost = quantity * unit_price\n",
    "\n",
    "if total_cost > 1000:\n",
    "    discount = total_cost * 0.10\n",
    "    total_cost -= discount\n",
    "    print(f\"Discount of 10% applied. You saved {discount:.2f}!\")\n",
    "else:\n",
    "    print(\"No discount applied.\")\n",
    "\n",
    "print(f\"Total cost: {total_cost:.2f}\")\n"
   ]
  },
  {
   "cell_type": "markdown",
   "id": "9ce5d5dd-bc66-4f9b-8c37-6f44bea3cb52",
   "metadata": {},
   "source": [
    "12. A school has following rules for grading system:\n",
    "A school has following rules for grading system:\n",
    "a. Below 25 - F\n",
    "\n",
    "b. 25 to 45 - E\n",
    "\n",
    "c. 45 to 50 - D\n",
    "\n",
    "d. 50 to 60 - C\n",
    "\n",
    "e. 60 to 80 - B\n",
    "\n",
    "f. Above 80 - A\n",
    "\n",
    "Ask user to enter marks and print the corresponding grade."
   ]
  },
  {
   "cell_type": "code",
   "execution_count": 26,
   "id": "dfa894cd-8829-492e-8fb4-f9e4e5b58b75",
   "metadata": {},
   "outputs": [
    {
     "name": "stdout",
     "output_type": "stream",
     "text": [
      "Sorry You are fail\n"
     ]
    }
   ],
   "source": [
    "English = int(input(\"Enter Your English Number\"))\n",
    "Islamiyat = int(input(\"Enter Your English Number\"))\n",
    "Maths = int(input(\"Enter Your English Number\"))\n",
    "Total_Marks = 300\n",
    "Subject_Total= (English + Islamiyat + Maths)\n",
    "Grand_Total = (Subject_Total / 300 * 100)\n",
    "\n",
    "if Grand_Total >=80 :\n",
    "    print(\"Congratulation You achieve A Grade\")\n",
    "elif Grand_Total >=60:\n",
    "    print(\"Congratulation You achieve B Grade\")\n",
    "elif Grand_Total >=50:\n",
    "    print(\"Congratulation You achieve C Grade\")\n",
    "elif Grand_Total >=45:\n",
    "    print(\"Congratulation You achieve D Grade\")\n",
    "elif Grand_Total >=25:\n",
    "    print(\"Congratulation You achieve E Grade\")\n",
    "else :\n",
    "    print(\"Sorry You are fail\")"
   ]
  },
  {
   "cell_type": "markdown",
   "id": "df84fd36-df8a-4834-9663-1e76d8484fa4",
   "metadata": {},
   "source": [
    "14. A student will not be allowed to sit in exam if his/her attendence is less than 75%.\n",
    "\n",
    "Take following input from user\n",
    "\n",
    "Number of classes held\n",
    "\n",
    "Number of classes attended.\n",
    "\n",
    "And print\n",
    "\n",
    "percentage of class attended\n",
    "\n",
    "Is student is allowed to sit in exam or not."
   ]
  },
  {
   "cell_type": "code",
   "execution_count": 31,
   "id": "b110d93c-d1a2-48bb-b563-337dcf4dd833",
   "metadata": {},
   "outputs": [
    {
     "name": "stdout",
     "output_type": "stream",
     "text": [
      "Your'e allowed to sit in the exam\n"
     ]
    }
   ],
   "source": [
    "totalclass = int(input(\"Enter number of classes held\"))\n",
    "classesattend = int(input(\"Enter number of classes attend\"))\n",
    "percentage = (classesattend / totalclass) * 100 \n",
    "if percentage <75 :\n",
    "    print(\"Your'e not allowed to sit in the exam\")\n",
    "else :\n",
    "    print(\"Your'e allowed to sit in the exam\")"
   ]
  },
  {
   "cell_type": "markdown",
   "id": "6404a72d-1a09-4c46-ae1d-afb6d9b35373",
   "metadata": {},
   "source": [
    "15. Modify the above question to allow student to sit if he/she has medical cause. Ask user if he/she has medical cause or not ( 'Y' or 'N' ) and print accordingly."
   ]
  },
  {
   "cell_type": "code",
   "execution_count": 32,
   "id": "fab1a6c5-ce93-4e90-bce1-128dc64f9518",
   "metadata": {},
   "outputs": [
    {
     "name": "stdout",
     "output_type": "stream",
     "text": [
      "You're allowed to sit in the exam.\n"
     ]
    }
   ],
   "source": [
    "totalclass = int(input(\"Enter number of classes held: \"))\n",
    "classesattend = int(input(\"Enter number of classes attended: \"))\n",
    "\n",
    "percentage = (classesattend / totalclass) * 100\n",
    "\n",
    "if percentage < 75:\n",
    "    medical_cause = input(\"Do you have a medical cause? (Y/N): \")\n",
    "    if medical_cause == 'Y':\n",
    "        print(\"You're allowed to sit in the exam due to medical cause.\")\n",
    "    else:\n",
    "        print(\"You're not allowed to sit in the exam.\")\n",
    "else:\n",
    "    print(\"You're allowed to sit in the exam.\")\n"
   ]
  },
  {
   "cell_type": "markdown",
   "id": "b2243033-c35c-4f47-bf8f-60aa229be6aa",
   "metadata": {},
   "source": [
    "16. Write a program to check if a year is leap year or not.\n",
    "If a year is divisible by 4 then it is leap year but if the year is century year like 2000, 1900, 2100 then it must be divisible by 400.\n"
   ]
  },
  {
   "cell_type": "code",
   "execution_count": 33,
   "id": "2314b367-be3e-46cd-8a1a-23049a8fe2fe",
   "metadata": {},
   "outputs": [
    {
     "name": "stdout",
     "output_type": "stream",
     "text": [
      "223 is not a leap year.\n"
     ]
    }
   ],
   "source": [
    "year = int(input(\"Enter a year to check if it's a leap year: \"))\n",
    "\n",
    "if (year % 4 == 0):\n",
    "    if (year % 100 == 0):\n",
    "        if (year % 400 == 0):\n",
    "            print(f\"{year} is a leap year.\")\n",
    "        else:\n",
    "            print(f\"{year} is not a leap year.\")\n",
    "    else:\n",
    "        print(f\"{year} is a leap year.\")\n",
    "else:\n",
    "    print(f\"{year} is not a leap year.\")\n"
   ]
  },
  {
   "cell_type": "markdown",
   "id": "0c22b596-9e19-4621-9639-8862d6e51192",
   "metadata": {},
   "source": [
    "17. Ask user to enter age, gender ( M or F ), marital status ( Y or N ) and then using following rules print their place of service.\n",
    "if employee is female, then she will work only in urban areas.\n",
    "\n",
    "if employee is a male and age is in between 20 to 40 then he may work in anywhere\n",
    "\n",
    "if employee is male and age is in between 40 t0 60 then he will work in urban areas only.\n",
    "\n",
    "And any other input of age should print \"ERROR\""
   ]
  },
  {
   "cell_type": "code",
   "execution_count": 34,
   "id": "5c88875d-351c-413c-bc85-04b3e626e43a",
   "metadata": {},
   "outputs": [
    {
     "name": "stdout",
     "output_type": "stream",
     "text": [
      "You may work anywhere.\n"
     ]
    }
   ],
   "source": [
    "# Input from user\n",
    "age = int(input(\"Enter your age: \"))\n",
    "gender = input(\"Enter your gender (M/F): \")\n",
    "marital_status = input(\"Are you married? (Y/N): \")\n",
    "\n",
    "# Decision logic\n",
    "if gender == 'F':\n",
    "    print(\"You will work only in urban areas.\")\n",
    "elif gender == 'M':\n",
    "    if 20 <= age <= 40:\n",
    "        print(\"You may work anywhere.\")\n",
    "    elif 40 < age <= 60:\n",
    "        print(\"You will work only in urban areas.\")\n",
    "    else:\n",
    "        print(\"ERROR: Invalid age for male employee.\")\n",
    "else:\n",
    "    print(\"ERROR: Invalid gender input.\")\n"
   ]
  },
  {
   "cell_type": "markdown",
   "id": "90414572-fbdd-449e-aa5c-b3abafae70a3",
   "metadata": {},
   "source": [
    "6. Write a program to calculate the electricity bill (accept number of unit from user) according to the following criteria : Unit Price\n",
    "uptp 100 units no charge Next 200 units Rs 5 per unit After 200 units Rs 10 per unit (For example if input unit is 350 than total bill amount is Rs.3500 (For example if input unit is 97 than total bill amount is Rs.0 (For example if input unit is 150 than total bill amount is Rs.750"
   ]
  },
  {
   "cell_type": "code",
   "execution_count": 35,
   "id": "3e620d70-3b1b-4372-96e2-760e272fe287",
   "metadata": {},
   "outputs": [
    {
     "name": "stdout",
     "output_type": "stream",
     "text": [
      "Total bill amount is Rs. 0\n"
     ]
    }
   ],
   "source": [
    "units = int(input(\"Enter the number of units consumed: \"))\n",
    "bill = 0\n",
    "\n",
    "if units <= 100:\n",
    "    bill = 0\n",
    "elif units <= 300:\n",
    "    bill = (units - 100) * 5\n",
    "else:\n",
    "    bill = (200 * 5) + ((units - 300) * 10)\n",
    "\n",
    "print(f\"Total bill amount is Rs. {bill}\")\n"
   ]
  },
  {
   "cell_type": "markdown",
   "id": "3278420b-9894-4330-bf42-7958bf921f70",
   "metadata": {},
   "source": [
    "6. Take input of age of 3 people by user and determine oldest and youngest among them."
   ]
  },
  {
   "cell_type": "code",
   "execution_count": 37,
   "id": "b7aaa492-e53b-48d5-8675-cdd1cb39efb2",
   "metadata": {},
   "outputs": [
    {
     "name": "stdout",
     "output_type": "stream",
     "text": [
      "The oldest person is 44 years old.\n",
      "The youngest person is 44 years old.\n"
     ]
    }
   ],
   "source": [
    "age1 = int(input(\"Enter age of person 1: \"))\n",
    "age2 = int(input(\"Enter age of person 2: \"))\n",
    "age3 = int(input(\"Enter age of person 3: \"))\n",
    "\n",
    "oldest = max(age1, age2, age3)\n",
    "\n",
    "youngest = min(age1, age2, age3)\n",
    "\n",
    "print(f\"The oldest person is {oldest} years old.\")\n",
    "print(f\"The youngest person is {youngest} years old.\")\n"
   ]
  }
 ],
 "metadata": {
  "kernelspec": {
   "display_name": "Python 3",
   "language": "python",
   "name": "python3"
  },
  "language_info": {
   "codemirror_mode": {
    "name": "ipython",
    "version": 3
   },
   "file_extension": ".py",
   "mimetype": "text/x-python",
   "name": "python",
   "nbconvert_exporter": "python",
   "pygments_lexer": "ipython3",
   "version": "3.13.5"
  }
 },
 "nbformat": 4,
 "nbformat_minor": 5
}
