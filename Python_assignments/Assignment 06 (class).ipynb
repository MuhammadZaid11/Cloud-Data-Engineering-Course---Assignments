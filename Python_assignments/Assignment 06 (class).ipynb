{
 "cells": [
  {
   "cell_type": "markdown",
   "id": "55f8a379",
   "metadata": {},
   "source": [
    "1. Write a Python program to create a class representing a Circle. Include methods to calculate its area and perimeter."
   ]
  },
  {
   "cell_type": "code",
   "execution_count": 1,
   "id": "06cac3f7",
   "metadata": {},
   "outputs": [
    {
     "name": "stdout",
     "output_type": "stream",
     "text": [
      "Area of the circle: 370295.20\n",
      "Perimeter of the circle: 2157.14\n"
     ]
    }
   ],
   "source": [
    "import math\n",
    "\n",
    "class Circle:\n",
    "    def __init__(self, radius):\n",
    "        self.radius = radius\n",
    "\n",
    "    def area(self):\n",
    "        \"\"\"Calculate and return the area of the circle\"\"\"\n",
    "        return math.pi * (self.radius ** 2)\n",
    "\n",
    "    def perimeter(self):\n",
    "        \"\"\"Calculate and return the perimeter (circumference) of the circle\"\"\"\n",
    "        return 2 * math.pi * self.radius\n",
    "        \n",
    "if __name__ == \"__main__\":\n",
    "    r = float(input(\"Enter the radius of the circle: \"))\n",
    "    c = Circle(r)\n",
    "\n",
    "    print(f\"Area of the circle: {c.area():.2f}\")\n",
    "    print(f\"Perimeter of the circle: {c.perimeter():.2f}\")"
   ]
  },
  {
   "cell_type": "markdown",
   "id": "18ef333e",
   "metadata": {},
   "source": [
    "2. Write a Python program to create a person class. Include attributes like name, country and date of birth. Implement a method to determine the person's age."
   ]
  },
  {
   "cell_type": "code",
   "execution_count": 2,
   "id": "332aa8d0",
   "metadata": {},
   "outputs": [
    {
     "name": "stdout",
     "output_type": "stream",
     "text": [
      "\n",
      "--- Person Info ---\n",
      "Name: zaid\n",
      "Country: pakistan\n",
      "Date of Birth: 2006-04-10\n",
      "Age: 19 years old\n"
     ]
    }
   ],
   "source": [
    "from datetime import datetime, date\n",
    "\n",
    "class Person:\n",
    "    def __init__(self, name, country, dob):\n",
    "        self.name = name\n",
    "        self.country = country\n",
    "        # Convert dob (string) to datetime.date object\n",
    "        self.dob = datetime.strptime(dob, \"%Y-%m-%d\").date()\n",
    "\n",
    "    def get_age(self):\n",
    "        \"\"\"Calculate and return the age of the person\"\"\"\n",
    "        today = date.today()\n",
    "        age = today.year - self.dob.year\n",
    "        # Adjust if birthday hasn't occurred yet this year\n",
    "        if (today.month, today.day) < (self.dob.month, self.dob.day):\n",
    "            age -= 1\n",
    "        return age\n",
    "    \n",
    "if __name__ == \"__main__\":\n",
    "    name = input(\"Enter name: \")\n",
    "    country = input(\"Enter country: \")\n",
    "    dob = input(\"Enter date of birth (YYYY-MM-DD): \")\n",
    "\n",
    "    person = Person(name, country, dob)\n",
    "    print(f\"\\n--- Person Info ---\")\n",
    "    print(f\"Name: {person.name}\")\n",
    "    print(f\"Country: {person.country}\")\n",
    "    print(f\"Date of Birth: {person.dob}\")\n",
    "    print(f\"Age: {person.get_age()} years old\")\n"
   ]
  },
  {
   "cell_type": "markdown",
   "id": "d72852f9",
   "metadata": {},
   "source": [
    "3. Write a Python program to create a calculator class. Include methods for basic arithmetic operations."
   ]
  },
  {
   "cell_type": "code",
   "execution_count": 3,
   "id": "4712ba12",
   "metadata": {},
   "outputs": [
    {
     "name": "stdout",
     "output_type": "stream",
     "text": [
      "Basic Calculator\n",
      "Addition: 56.0\n",
      "Subtraction: 10.0\n",
      "Multiplication: 759.0\n",
      "Division: 1.434782608695652\n"
     ]
    }
   ],
   "source": [
    "class Calculator:\n",
    "    def add(self, a, b):\n",
    "        return a + b\n",
    "\n",
    "    def subtract(self, a, b):\n",
    "        return a - b\n",
    "\n",
    "    def multiply(self, a, b):\n",
    "        return a * b\n",
    "\n",
    "    def divide(self, a, b):\n",
    "        if b == 0:\n",
    "            return \"Error! Division by zero is not allowed.\"\n",
    "        return a / b\n",
    "\n",
    "if __name__ == \"__main__\":\n",
    "    calc = Calculator()\n",
    "\n",
    "    print(\"Basic Calculator\")\n",
    "    num1 = float(input(\"Enter first number: \"))\n",
    "    num2 = float(input(\"Enter second number: \"))\n",
    "\n",
    "    print(f\"Addition: {calc.add(num1, num2)}\")\n",
    "    print(f\"Subtraction: {calc.subtract(num1, num2)}\")\n",
    "    print(f\"Multiplication: {calc.multiply(num1, num2)}\")\n",
    "    print(f\"Division: {calc.divide(num1, num2)}\")\n"
   ]
  }
 ],
 "metadata": {
  "kernelspec": {
   "display_name": "Python 3",
   "language": "python",
   "name": "python3"
  },
  "language_info": {
   "codemirror_mode": {
    "name": "ipython",
    "version": 3
   },
   "file_extension": ".py",
   "mimetype": "text/x-python",
   "name": "python",
   "nbconvert_exporter": "python",
   "pygments_lexer": "ipython3",
   "version": "3.13.5"
  }
 },
 "nbformat": 4,
 "nbformat_minor": 5
}
