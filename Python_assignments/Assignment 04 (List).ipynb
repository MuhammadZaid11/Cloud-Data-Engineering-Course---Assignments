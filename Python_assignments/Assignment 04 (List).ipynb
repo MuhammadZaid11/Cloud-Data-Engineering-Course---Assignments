{
 "cells": [
  {
   "cell_type": "markdown",
   "id": "215b0033-5559-49f8-8e64-abba2b47c919",
   "metadata": {},
   "source": [
    "1. Write a program that accepts a list from user and print the alternate element of list."
   ]
  },
  {
   "cell_type": "code",
   "execution_count": 1,
   "id": "edf4ee62-0243-40f7-9514-07f8a5e1a501",
   "metadata": {},
   "outputs": [
    {
     "name": "stdin",
     "output_type": "stream",
     "text": [
      "Enter elements of the list separated by spaces:  1 9 7\n"
     ]
    },
    {
     "name": "stdout",
     "output_type": "stream",
     "text": [
      "Alternate elements of the list:\n",
      "1\n",
      "7\n"
     ]
    }
   ],
   "source": [
    "user_input = input(\"Enter elements of the list separated by spaces: \")\n",
    "\n",
    "user_list = user_input.split()\n",
    "\n",
    "print(\"Alternate elements of the list:\")\n",
    "for i in range(0, len(user_list), 2):\n",
    "    print(user_list[i])\n"
   ]
  },
  {
   "cell_type": "markdown",
   "id": "c14c30c1-72ba-42cf-9da7-1acd45f5d79f",
   "metadata": {},
   "source": [
    "2. Write a program that accepts a list from user. Your program should reverse the content of list and display it. Do not use reverse() method."
   ]
  },
  {
   "cell_type": "code",
   "execution_count": 2,
   "id": "a2124e52-bb0c-4367-b56b-1486a4bd82c9",
   "metadata": {},
   "outputs": [
    {
     "name": "stdin",
     "output_type": "stream",
     "text": [
      "Enter elements of the list separated by spaces:  list 238 83u4\n"
     ]
    },
    {
     "name": "stdout",
     "output_type": "stream",
     "text": [
      "Reversed list: ['83u4', '238', 'list']\n"
     ]
    }
   ],
   "source": [
    "user_input = input(\"Enter elements of the list separated by spaces: \")\n",
    "\n",
    "user_list = user_input.split()\n",
    "\n",
    "reversed_list = []\n",
    "\n",
    "for i in range(len(user_list) - 1, -1, -1):\n",
    "    reversed_list.append(user_list[i])\n",
    "\n",
    "print(\"Reversed list:\", reversed_list)\n"
   ]
  },
  {
   "cell_type": "markdown",
   "id": "c6e70f6b-0958-4134-8746-3ad753434d9e",
   "metadata": {},
   "source": [
    "3. Find and display the largest number of a list without using built-in function max(). Your program should ask the user to input values in list from keyboard."
   ]
  },
  {
   "cell_type": "code",
   "execution_count": 5,
   "id": "7b294754-9483-4503-af22-0edab255d383",
   "metadata": {},
   "outputs": [
    {
     "name": "stdin",
     "output_type": "stream",
     "text": [
      "Enter numbers separated by spaces:  7 8 9 10\n"
     ]
    },
    {
     "name": "stdout",
     "output_type": "stream",
     "text": [
      "Largest number is: 10\n"
     ]
    }
   ],
   "source": [
    "user_input = input(\"Enter numbers separated by spaces: \")\n",
    "num_list = [int(x) for x in user_input.split()]\n",
    "\n",
    "largest = num_list[0]\n",
    "for num in num_list:\n",
    "    if num > largest:\n",
    "        largest = num\n",
    "\n",
    "print(\"Largest number is:\", largest)\n"
   ]
  },
  {
   "cell_type": "markdown",
   "id": "aba98cb2-8f60-4ad7-bae1-e9a6d86c5b30",
   "metadata": {},
   "source": [
    "4. Write a program that rotates the element of a list so that the element at the first index moves to the second index, the element in the second index moves to the third index, etc., and the element in the last index moves to the first index."
   ]
  },
  {
   "cell_type": "code",
   "execution_count": 6,
   "id": "315285f4-6f1d-4e1f-b57c-e5acfc3f35f0",
   "metadata": {},
   "outputs": [
    {
     "name": "stdin",
     "output_type": "stream",
     "text": [
      "Enter elements of the list separated by spaces:  1 2 3 7 9\n"
     ]
    },
    {
     "name": "stdout",
     "output_type": "stream",
     "text": [
      "Rotated list: ['9', '1', '2', '3', '7']\n"
     ]
    }
   ],
   "source": [
    "user_input = input(\"Enter elements of the list separated by spaces: \")\n",
    "lst = user_input.split()\n",
    "\n",
    "if len(lst) > 0:\n",
    "    rotated = [lst[-1]] + lst[:-1]\n",
    "else:\n",
    "    rotated = lst\n",
    "\n",
    "print(\"Rotated list:\", rotated)\n"
   ]
  },
  {
   "cell_type": "markdown",
   "id": "eef4f140-7171-418a-9df9-2c971988901c",
   "metadata": {},
   "source": [
    "5. Write a program that input a string and ask user to delete a given word from a string."
   ]
  },
  {
   "cell_type": "code",
   "execution_count": 7,
   "id": "01247693-f561-4f0c-8cb9-ae68945c73f1",
   "metadata": {},
   "outputs": [
    {
     "name": "stdin",
     "output_type": "stream",
     "text": [
      "Enter a string:  talha ahmer\n",
      "Enter the word to delete:  ahmer\n"
     ]
    },
    {
     "name": "stdout",
     "output_type": "stream",
     "text": [
      "String after deletion: talha\n"
     ]
    }
   ],
   "source": [
    "text = input(\"Enter a string: \")\n",
    "word_to_delete = input(\"Enter the word to delete: \")\n",
    "words = text.split()\n",
    "filtered_words = [w for w in words if w != word_to_delete]\n",
    "result = ' '.join(filtered_words)\n",
    "print(\"String after deletion:\", result)\n"
   ]
  },
  {
   "cell_type": "markdown",
   "id": "e1dd87bc-7e07-4b13-b1b6-58c35d8a1217",
   "metadata": {},
   "source": [
    "6. Write a program that reads a string from the user containing a date in the form mm/dd/yyyy. It should print the date in the form March 12, 2021."
   ]
  },
  {
   "cell_type": "code",
   "execution_count": 8,
   "id": "7a3de06b-f7cd-4771-90ef-fa7518cea07f",
   "metadata": {},
   "outputs": [
    {
     "name": "stdin",
     "output_type": "stream",
     "text": [
      "Enter date (mm/dd/yyyy):  02/17/2006\n"
     ]
    },
    {
     "name": "stdout",
     "output_type": "stream",
     "text": [
      "February 17, 2006\n"
     ]
    }
   ],
   "source": [
    "date_input = input(\"Enter date (mm/dd/yyyy): \")\n",
    "month, day, year = date_input.split('/')\n",
    "\n",
    "months = {\n",
    "    \"01\": \"January\", \"02\": \"February\", \"03\": \"March\", \"04\": \"April\",\n",
    "    \"05\": \"May\", \"06\": \"June\", \"07\": \"July\", \"08\": \"August\",\n",
    "    \"09\": \"September\", \"10\": \"October\", \"11\": \"November\", \"12\": \"December\"\n",
    "}\n",
    "\n",
    "month_name = months.get(month.zfill(2), \"Invalid month\")\n",
    "print(f\"{month_name} {int(day)}, {year}\")\n"
   ]
  },
  {
   "cell_type": "markdown",
   "id": "9c765cdd-d37d-4aa0-b891-780d57d5f9bf",
   "metadata": {},
   "source": [
    "7. Write a program with a function that accepts a string from keyboard and create a new string after converting character of each word capitalized. For instance, if the sentence is \"stop and smell the roses.\" the output should be \"Stop And Smell The Roses\""
   ]
  },
  {
   "cell_type": "code",
   "execution_count": 9,
   "id": "c0077d9a-233a-4bf5-b10f-7b75f3fcfd93",
   "metadata": {},
   "outputs": [
    {
     "name": "stdin",
     "output_type": "stream",
     "text": [
      "Enter a sentence:  i am a developer\n"
     ]
    },
    {
     "name": "stdout",
     "output_type": "stream",
     "text": [
      "I Am A Developer\n"
     ]
    }
   ],
   "source": [
    "def capitalize_words(sentence):\n",
    "    result = \"\"\n",
    "    capitalize_next = True\n",
    "\n",
    "    for char in sentence:\n",
    "        if char.isalpha():\n",
    "            if capitalize_next:\n",
    "                result += char.upper()\n",
    "                capitalize_next = False\n",
    "            else:\n",
    "                result += char.lower()\n",
    "        else:\n",
    "            result += char\n",
    "            if char == \" \":\n",
    "                capitalize_next = True\n",
    "\n",
    "    return result\n",
    "\n",
    "user_input = input(\"Enter a sentence: \")\n",
    "print(capitalize_words(user_input))\n"
   ]
  },
  {
   "cell_type": "markdown",
   "id": "0cf0a202-24ca-483c-bcde-378cbe603b18",
   "metadata": {},
   "source": [
    "8. Find the sum of each row of matrix of size m x n. For example for the following matrix output will be like this:\n",
    "- 2\n",
    "- 11\n",
    "- 7\n",
    "- 12\n",
    "- 5\n",
    "- 2\n",
    "- 9\n",
    "- 15\n",
    "- 8\n",
    "- 3\n",
    "- 10\n",
    "\n",
    "Sum of row 1 = 32\n",
    "Sum of row 2 = 31\n",
    "Sum of row 3 = 63"
   ]
  },
  {
   "cell_type": "code",
   "execution_count": 17,
   "id": "9f9629d5-924d-4814-a8b3-0be03645c0a6",
   "metadata": {},
   "outputs": [
    {
     "name": "stdin",
     "output_type": "stream",
     "text": [
      " 2\n",
      " 3\n",
      " 4\n"
     ]
    },
    {
     "name": "stdout",
     "output_type": "stream",
     "text": [
      "2\n",
      "3\n",
      "4\n",
      "Sum of row 1 = 2\n",
      "Sum of row 2 = 3\n",
      "Sum of row 3 = 4\n"
     ]
    }
   ],
   "source": [
    "m = 3\n",
    "n = 4\n",
    "matrix = []\n",
    "\n",
    "for _ in range(m):\n",
    "    row = list(map(int, input().split()))\n",
    "    matrix.append(row)\n",
    "\n",
    "for row in matrix:\n",
    "    for element in row:\n",
    "        print(element)\n",
    "\n",
    "for i, row in enumerate(matrix, start=1):\n",
    "    print(f\"Sum of row {i} = {sum(row)}\")\n"
   ]
  },
  {
   "cell_type": "markdown",
   "id": "7d22d104-5d6d-41e1-9dc2-c950cae2687d",
   "metadata": {},
   "source": [
    "9. Write a program to add two matrices of size n x m."
   ]
  },
  {
   "cell_type": "code",
   "execution_count": 27,
   "id": "89dde6ea-36a3-410c-a335-1ed5f942b889",
   "metadata": {},
   "outputs": [
    {
     "name": "stdin",
     "output_type": "stream",
     "text": [
      " 1 2\n",
      " 1 2 4\n",
      " 1 2 5\n"
     ]
    },
    {
     "name": "stdout",
     "output_type": "stream",
     "text": [
      "2 4\n"
     ]
    }
   ],
   "source": [
    "n, m = map(int, input().split())\n",
    "matrix1 = []\n",
    "matrix2 = []\n",
    "\n",
    "for _ in range(n):\n",
    "    row = list(map(int, input().split()))\n",
    "    matrix1.append(row)\n",
    "\n",
    "for _ in range(n):\n",
    "    row = list(map(int, input().split()))\n",
    "    matrix2.append(row)\n",
    "\n",
    "result = [[matrix1[i][j] + matrix2[i][j] for j in range(m)] for i in range(n)]\n",
    "\n",
    "for row in result:\n",
    "    print(*row)\n"
   ]
  },
  {
   "cell_type": "markdown",
   "id": "599a588d-b2a1-4e47-a38e-7fd991251f24",
   "metadata": {},
   "source": [
    "10. Write a program to multiply two matrices"
   ]
  },
  {
   "cell_type": "code",
   "execution_count": 34,
   "id": "c0c6747f-4900-4097-a1b9-96a4c1463a2c",
   "metadata": {},
   "outputs": [
    {
     "name": "stdin",
     "output_type": "stream",
     "text": [
      " 1 2\n",
      " 1 4 2\n",
      " 1 2\n",
      " 1 4\n"
     ]
    },
    {
     "name": "stdout",
     "output_type": "stream",
     "text": [
      "Matrix multiplication not possible\n"
     ]
    }
   ],
   "source": [
    "n1, m1 = map(int, input().split())\n",
    "matrix1 = [list(map(int, input().split())) for _ in range(n1)]\n",
    "\n",
    "n2, m2 = map(int, input().split())\n",
    "matrix2 = [list(map(int, input().split())) for _ in range(n2)]\n",
    "\n",
    "if m1 != n2:\n",
    "    print(\"Matrix multiplication not possible\")\n",
    "else:\n",
    "    result = [[0] * m2 for _ in range(n1)]\n",
    "    for i in range(n1):\n",
    "        for j in range(m2):\n",
    "            for k in range(m1):\n",
    "                result[i][j] += matrix1[i][k] * matrix2[k][j]\n",
    "    for row in result:\n",
    "        print(*row)\n"
   ]
  },
  {
   "cell_type": "code",
   "execution_count": null,
   "id": "59c593d5-4cbf-421f-b2ed-6c6974b9408a",
   "metadata": {},
   "outputs": [],
   "source": []
  }
 ],
 "metadata": {
  "kernelspec": {
   "display_name": "Python 3 (ipykernel)",
   "language": "python",
   "name": "python3"
  },
  "language_info": {
   "codemirror_mode": {
    "name": "ipython",
    "version": 3
   },
   "file_extension": ".py",
   "mimetype": "text/x-python",
   "name": "python",
   "nbconvert_exporter": "python",
   "pygments_lexer": "ipython3",
   "version": "3.12.7"
  }
 },
 "nbformat": 4,
 "nbformat_minor": 5
}
