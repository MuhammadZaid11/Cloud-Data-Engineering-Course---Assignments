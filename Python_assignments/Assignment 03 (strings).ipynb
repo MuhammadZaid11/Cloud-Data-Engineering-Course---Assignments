{
 "cells": [
  {
   "cell_type": "markdown",
   "id": "f926e264-a855-4c5a-b64c-b0e6ce0006ad",
   "metadata": {},
   "source": [
    "1. Write a program that accepts a string from user. Your program should count and display number of vowels in the string."
   ]
  },
  {
   "cell_type": "code",
   "execution_count": 1,
   "id": "e8f1c2f7-7966-440e-a244-589d31448310",
   "metadata": {},
   "outputs": [
    {
     "name": "stdin",
     "output_type": "stream",
     "text": [
      "Enter a string:  talha\n"
     ]
    },
    {
     "name": "stdout",
     "output_type": "stream",
     "text": [
      "Number of vowels in the string: 2\n"
     ]
    }
   ],
   "source": [
    "user_string = input(\"Enter a string: \")\n",
    "\n",
    "vowels = \"aeiouAEIOU\"\n",
    "\n",
    "count = 0\n",
    "\n",
    "for char in user_string:\n",
    "    if char in vowels:\n",
    "        count += 1\n",
    "\n",
    "print(f\"Number of vowels in the string: {count}\")\n"
   ]
  },
  {
   "cell_type": "markdown",
   "id": "fd84126d-a8aa-459f-9585-f824cc744732",
   "metadata": {},
   "source": [
    "2. Write a program that reads a string from keyboard and display:\n",
    "* The number of uppercase letters in the string\n",
    "* The number of lowercase letters in the string\n",
    "* The number of digits in the string\n",
    "* The number of whitespace characters in the string"
   ]
  },
  {
   "cell_type": "code",
   "execution_count": 2,
   "id": "9699e208-98e3-45b9-aa7b-a022dd2666de",
   "metadata": {},
   "outputs": [
    {
     "name": "stdin",
     "output_type": "stream",
     "text": [
      "Enter a string:  talha ahMER \\\n"
     ]
    },
    {
     "name": "stdout",
     "output_type": "stream",
     "text": [
      "Uppercase letters: 3\n",
      "Lowercase letters: 7\n",
      "Digits: 0\n",
      "Whitespace characters: 2\n"
     ]
    }
   ],
   "source": [
    "user_string = input(\"Enter a string: \")\n",
    "\n",
    "uppercase_count = 0\n",
    "lowercase_count = 0\n",
    "digit_count = 0\n",
    "whitespace_count = 0\n",
    "\n",
    "for char in user_string:\n",
    "    if char.isupper():\n",
    "        uppercase_count += 1\n",
    "    elif char.islower():\n",
    "        lowercase_count += 1\n",
    "    elif char.isdigit():\n",
    "        digit_count += 1\n",
    "    elif char.isspace():\n",
    "        whitespace_count += 1\n",
    "\n",
    "print(f\"Uppercase letters: {uppercase_count}\")\n",
    "print(f\"Lowercase letters: {lowercase_count}\")\n",
    "print(f\"Digits: {digit_count}\")\n",
    "print(f\"Whitespace characters: {whitespace_count}\")\n"
   ]
  },
  {
   "cell_type": "markdown",
   "id": "58a01250-1131-4e09-b642-294fe9cdae55",
   "metadata": {},
   "source": [
    "3. Write a Python Program that accepts a string from user. Your program should create and display a new string where the first and last characters have been exchanged.\n",
    "For Example if the user enters the string 'HELLO' then new string would be 'OELLH'"
   ]
  },
  {
   "cell_type": "code",
   "execution_count": 3,
   "id": "c929b458-0f86-4f91-8e83-45442c31fe79",
   "metadata": {},
   "outputs": [
    {
     "name": "stdin",
     "output_type": "stream",
     "text": [
      "Enter a string:  talha HAMER iweuroa\n"
     ]
    },
    {
     "name": "stdout",
     "output_type": "stream",
     "text": [
      "String after swapping first and last characters: aalha HAMER iweurot\n"
     ]
    }
   ],
   "source": [
    "user_string = input(\"Enter a string: \")\n",
    "\n",
    "if len(user_string) < 2:\n",
    "    new_string = user_string\n",
    "else:\n",
    "\n",
    "    new_string = user_string[-1] + user_string[1:-1] + user_string[0]\n",
    "\n",
    "print(\"String after swapping first and last characters:\", new_string)\n"
   ]
  },
  {
   "cell_type": "markdown",
   "id": "8f3c65c8-0056-4e11-a7fd-1fa9d4af4530",
   "metadata": {},
   "source": [
    "4. Write a Python program that accepts a string from user. Your program should create a new string in reverse of first string and display it.\n",
    "For example if the user enters the string 'EXAM' then new string would be 'MAXE'"
   ]
  },
  {
   "cell_type": "code",
   "execution_count": 4,
   "id": "e8b9a0c1-10dc-4d1e-aab3-1f22cc2f4244",
   "metadata": {},
   "outputs": [
    {
     "name": "stdin",
     "output_type": "stream",
     "text": [
      "Enter a string:  huasdh\n"
     ]
    },
    {
     "name": "stdout",
     "output_type": "stream",
     "text": [
      "Reversed string: hdsauh\n"
     ]
    }
   ],
   "source": [
    "user_string = input(\"Enter a string: \")\n",
    "\n",
    "reversed_string = user_string[::-1]\n",
    "\n",
    "print(\"Reversed string:\", reversed_string)\n"
   ]
  },
  {
   "cell_type": "markdown",
   "id": "1208dbcf-c42a-41c9-8524-01684870cb94",
   "metadata": {},
   "source": [
    "5. Write a Python program that accepts a string from user. Your program should create a new string by shifting one position to left.\n",
    "For example if the user enters the string 'examination 2021' then new string would be 'xamination 2021e'"
   ]
  },
  {
   "cell_type": "code",
   "execution_count": 5,
   "id": "9a5f7449-bc86-48d9-9679-2591cb9494af",
   "metadata": {},
   "outputs": [
    {
     "name": "stdin",
     "output_type": "stream",
     "text": [
      "Enter a string:  talhazad\n"
     ]
    },
    {
     "name": "stdout",
     "output_type": "stream",
     "text": [
      "String after shifting one position to the left: alhazadt\n"
     ]
    }
   ],
   "source": [
    "user_string = input(\"Enter a string: \")\n",
    "\n",
    "if len(user_string) <= 1:\n",
    "    shifted_string = user_string\n",
    "else:\n",
    "\n",
    "    shifted_string = user_string[1:] + user_string[0]\n",
    "\n",
    "print(\"String after shifting one position to the left:\", shifted_string)\n"
   ]
  },
  {
   "cell_type": "markdown",
   "id": "52219e44-6aaf-449e-b833-0cf5edb7a349",
   "metadata": {},
   "source": [
    "6. Write a program that asks the user to input his name and print its initials. Assuming that the user always types first name, middle name and last name and does not include any unnecessary spaces.\n",
    "For example, if the user enters Ajay Kumar Garg the program should display A. K. G.\n",
    "Note: Don't use split() method"
   ]
  },
  {
   "cell_type": "code",
   "execution_count": 6,
   "id": "019c5063-35a0-435c-a002-c74cbbdcf7bd",
   "metadata": {},
   "outputs": [
    {
     "name": "stdin",
     "output_type": "stream",
     "text": [
      "Enter your full name (first middle last):  Talha Ahmer\n"
     ]
    },
    {
     "name": "stdout",
     "output_type": "stream",
     "text": [
      "Initials: T. A.\n"
     ]
    }
   ],
   "source": [
    "full_name = input(\"Enter your full name (first middle last): \")\n",
    "\n",
    "initials = \"\"\n",
    "\n",
    "if len(full_name) > 0:\n",
    "    initials += full_name[0].upper() + \". \"\n",
    "\n",
    "for i in range(1, len(full_name) - 1):\n",
    "    if full_name[i] == \" \":\n",
    "        initials += full_name[i + 1].upper() + \". \"\n",
    "\n",
    "print(\"Initials:\", initials.strip())\n"
   ]
  },
  {
   "cell_type": "markdown",
   "id": "91d5eb2b-bd79-4e3f-a748-446a8600f36b",
   "metadata": {},
   "source": [
    "7. A palindrome is a string that reads the same backward as forward. For example, the words dad, madam and radar are all palindromes. Write a programs that determines whether the string is a palindrome.\n",
    "Note: do not use reverse() method"
   ]
  },
  {
   "cell_type": "code",
   "execution_count": 11,
   "id": "c4fe9976-3931-4bad-86c0-50d87823dcb3",
   "metadata": {},
   "outputs": [
    {
     "name": "stdin",
     "output_type": "stream",
     "text": [
      "Enter a string:  dad\n"
     ]
    },
    {
     "name": "stdout",
     "output_type": "stream",
     "text": [
      "The string is a palindrome.\n"
     ]
    }
   ],
   "source": [
    "user_string = input(\"Enter a string: \")\n",
    "\n",
    "user_string = user_string.lower()\n",
    "\n",
    "is_palindrome = True\n",
    "\n",
    "for i in range(len(user_string) // 2):\n",
    "    if user_string[i] != user_string[-(i + 1)]:\n",
    "        is_palindrome = False\n",
    "        break\n",
    "\n",
    "if is_palindrome:\n",
    "    print(\"The string is a palindrome.\")\n",
    "else:\n",
    "    print(\"The string is not a palindrome.\")\n"
   ]
  },
  {
   "cell_type": "markdown",
   "id": "9e05410d-7b6a-4586-8cd5-3f49a33e6662",
   "metadata": {},
   "source": [
    "8. Write a program that display following output:\n",
    "SHIFT\n",
    "HIFTS\n",
    "IFTSH\n",
    "FTSHI\n",
    "TSHIF\n",
    "SHIFT"
   ]
  },
  {
   "cell_type": "code",
   "execution_count": 12,
   "id": "e3781a4e-991d-441b-b252-b72c92b4bb58",
   "metadata": {},
   "outputs": [
    {
     "name": "stdout",
     "output_type": "stream",
     "text": [
      "SHIFT\n",
      "HIFTS\n",
      "IFTSH\n",
      "FTSHI\n",
      "TSHIF\n",
      "SHIFT\n"
     ]
    }
   ],
   "source": [
    "original = \"SHIFT\"\n",
    "\n",
    "n = len(original)\n",
    "\n",
    "for i in range(n + 1):\n",
    "\n",
    "    shifted = original[i % n:] + original[:i % n]\n",
    "    print(shifted)\n"
   ]
  },
  {
   "cell_type": "markdown",
   "id": "d1b17077-3e92-4664-983c-8f47b75824c5",
   "metadata": {},
   "source": [
    "9. Write a program in python that accepts a string to setup a passwords. Your entered password must meet the following requirements:\n",
    "* The password must be at least eight characters long.\n",
    "* It must contain at least one uppercase letter.\n",
    "* It must contain at least one lowercase letter.\n",
    "* It must contain at least one numeric digit.\n",
    "* Your program should should perform this validation."
   ]
  },
  {
   "cell_type": "code",
   "execution_count": 14,
   "id": "50c546d7-c25d-4d15-b9e2-bb1112613d21",
   "metadata": {},
   "outputs": [
    {
     "name": "stdin",
     "output_type": "stream",
     "text": [
      "Enter your password:  TalhaZz@34\n"
     ]
    },
    {
     "name": "stdout",
     "output_type": "stream",
     "text": [
      "Password is valid.\n"
     ]
    }
   ],
   "source": [
    "password = input(\"Enter your password: \")\n",
    "\n",
    "has_upper = False\n",
    "has_lower = False\n",
    "has_digit = False\n",
    "\n",
    "if len(password) < 8:\n",
    "    print(\"Password must be at least 8 characters long.\")\n",
    "else:\n",
    "\n",
    "    for char in password:\n",
    "        if char.isupper():\n",
    "            has_upper = True\n",
    "        elif char.islower():\n",
    "            has_lower = True\n",
    "        elif char.isdigit():\n",
    "            has_digit = True\n",
    "\n",
    "\n",
    "    if has_upper and has_lower and has_digit:\n",
    "        print(\"Password is valid.\")\n",
    "    else:\n",
    "        print(\"Password is invalid. It must contain at least one uppercase letter, one lowercase letter, and one digit.\")\n"
   ]
  },
  {
   "cell_type": "code",
   "execution_count": null,
   "id": "f364c854-85b2-48b5-a5f4-2927e9fd12a5",
   "metadata": {},
   "outputs": [],
   "source": []
  }
 ],
 "metadata": {
  "kernelspec": {
   "display_name": "Python 3 (ipykernel)",
   "language": "python",
   "name": "python3"
  },
  "language_info": {
   "codemirror_mode": {
    "name": "ipython",
    "version": 3
   },
   "file_extension": ".py",
   "mimetype": "text/x-python",
   "name": "python",
   "nbconvert_exporter": "python",
   "pygments_lexer": "ipython3",
   "version": "3.12.7"
  }
 },
 "nbformat": 4,
 "nbformat_minor": 5
}
