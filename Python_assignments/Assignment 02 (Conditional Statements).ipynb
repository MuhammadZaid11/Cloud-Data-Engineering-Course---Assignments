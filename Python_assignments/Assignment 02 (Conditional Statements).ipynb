{
 "cells": [
  {
   "cell_type": "markdown",
   "id": "865d4370-279c-41fa-ac98-7364324ccbeb",
   "metadata": {},
   "source": [
    "1. A company decided to give bonus of 5% to employee if his/her year of service is more than 5 years. Ask user for their salary and year of service and print the net bonus amount."
   ]
  },
  {
   "cell_type": "code",
   "execution_count": 1,
   "id": "e09e574a-02f0-481f-bbad-457cd9c420a1",
   "metadata": {},
   "outputs": [
    {
     "name": "stdin",
     "output_type": "stream",
     "text": [
      "Enter your salary:  20000\n",
      "Enter your years of service:  12\n"
     ]
    },
    {
     "name": "stdout",
     "output_type": "stream",
     "text": [
      "You are eligible for a bonus of: 1000.00\n"
     ]
    }
   ],
   "source": [
    "salary = float(input(\"Enter your salary: \"))\n",
    "years_of_service = float(input(\"Enter your years of service: \"))\n",
    "\n",
    "if years_of_service > 5:\n",
    "    bonus = 0.05 * salary\n",
    "    print(f\"You are eligible for a bonus of: {bonus:.2f}\")\n",
    "else:\n",
    "    print(\"You are not eligible for a bonus.\")\n"
   ]
  },
  {
   "cell_type": "markdown",
   "id": "f10af3bd-2540-4b29-ba0c-075c98c7a860",
   "metadata": {},
   "source": [
    "2. Write a program to check whether a person is eligible for voting or not. (accept age from user) if age is greater than 17 eligible otherwise not eligible"
   ]
  },
  {
   "cell_type": "code",
   "execution_count": 5,
   "id": "13ca6a87-b799-4d2e-9817-62df3fdf44c9",
   "metadata": {},
   "outputs": [
    {
     "name": "stdin",
     "output_type": "stream",
     "text": [
      "Enter your age:  19\n"
     ]
    },
    {
     "name": "stdout",
     "output_type": "stream",
     "text": [
      "You are eligible to vote.\n"
     ]
    }
   ],
   "source": [
    "age = int(input(\"Enter your age: \"))\n",
    "\n",
    "if age > 17:\n",
    "    print(\"You are eligible to vote.\")\n",
    "else:\n",
    "    print(\"You are not eligible to vote.\")\n"
   ]
  },
  {
   "cell_type": "markdown",
   "id": "e73a6115-6ae6-45de-92e2-159ad6fb19aa",
   "metadata": {},
   "source": [
    "3. Write a program to check whether a number entered by user is even or odd."
   ]
  },
  {
   "cell_type": "code",
   "execution_count": 6,
   "id": "181d61e8-be6a-4cfa-822c-f8d6ad020f54",
   "metadata": {},
   "outputs": [
    {
     "name": "stdin",
     "output_type": "stream",
     "text": [
      "Enter a Number 23\n"
     ]
    },
    {
     "name": "stdout",
     "output_type": "stream",
     "text": [
      "23 Is a Odd Number\n"
     ]
    }
   ],
   "source": [
    "number = int(input(\"Enter a Number\"))\n",
    "if number % 2 == 0 :\n",
    "    print(f\"{number} Is an Even Number\")\n",
    "else :\n",
    "    print(f\"{number} Is a Odd Number\")"
   ]
  },
  {
   "cell_type": "markdown",
   "id": "b1d9690a-f031-459e-ba20-b1fc2aecface",
   "metadata": {},
   "source": [
    "4. Write a program to check whether a number is divisible by 7 or not. Show Answer"
   ]
  },
  {
   "cell_type": "code",
   "execution_count": 7,
   "id": "c48aeb84-96b2-4528-bd37-afa61e2003e7",
   "metadata": {},
   "outputs": [
    {
     "name": "stdin",
     "output_type": "stream",
     "text": [
      "Enter Number 23\n"
     ]
    },
    {
     "name": "stdout",
     "output_type": "stream",
     "text": [
      "23 is not divisible by 7\n"
     ]
    }
   ],
   "source": [
    "number = int(input(\"Enter Number\"))\n",
    "if number % 7 == 0 :\n",
    "    result = number // 7 \n",
    "    print(f\"{number} is divisible by 7 and the answer is\" , result)\n",
    "else :\n",
    "    print(f\"{number} is not divisible by 7\")"
   ]
  },
  {
   "cell_type": "markdown",
   "id": "e20b219f-7569-4162-8a4e-68b26461c5cf",
   "metadata": {},
   "source": [
    "5. Write a program to display \"Hello\" if a number entered by user is a multiple of five , otherwise print \"Bye\"."
   ]
  },
  {
   "cell_type": "code",
   "execution_count": 8,
   "id": "29c19a6d-a825-4d80-aed3-5dda7c50749f",
   "metadata": {},
   "outputs": [
    {
     "name": "stdin",
     "output_type": "stream",
     "text": [
      "Enter Your Number 8\n"
     ]
    },
    {
     "name": "stdout",
     "output_type": "stream",
     "text": [
      "By\n"
     ]
    }
   ],
   "source": [
    "number = int(input(\"Enter Your Number\"))\n",
    "if number % 5 == 0 :\n",
    "    print(\"Hello\")\n",
    "else :\n",
    "    print(\"By\")"
   ]
  },
  {
   "cell_type": "markdown",
   "id": "8e6784b3-d65a-4632-b243-e0bf0f819360",
   "metadata": {},
   "source": [
    "7. Write a program to display the last digit of a number."
   ]
  },
  {
   "cell_type": "code",
   "execution_count": 9,
   "id": "92a754a7-9f52-4b64-abe1-8c814b03c58d",
   "metadata": {},
   "outputs": [
    {
     "name": "stdin",
     "output_type": "stream",
     "text": [
      "Enter a number:  22\n"
     ]
    },
    {
     "name": "stdout",
     "output_type": "stream",
     "text": [
      "The last digit of 22 is 2.\n"
     ]
    }
   ],
   "source": [
    "number = int(input(\"Enter a number: \"))\n",
    "\n",
    "lastdigit = number % 10\n",
    "\n",
    "print(f\"The last digit of {number} is {lastdigit}.\")\n"
   ]
  },
  {
   "cell_type": "markdown",
   "id": "a78f723a-0ced-467a-9077-225e8e3b41fe",
   "metadata": {},
   "source": [
    "9. Take values of length and breadth of a rectangle from user and print if it is square or rectangle."
   ]
  },
  {
   "cell_type": "code",
   "execution_count": 10,
   "id": "76bd5fd1-50dd-4252-a179-6eae9e8a5e45",
   "metadata": {},
   "outputs": [
    {
     "name": "stdin",
     "output_type": "stream",
     "text": [
      "Enter the length:  22\n",
      "Enter the breadth:  23\n"
     ]
    },
    {
     "name": "stdout",
     "output_type": "stream",
     "text": [
      "It is a rectangle\n"
     ]
    }
   ],
   "source": [
    "length = float(input(\"Enter the length: \"))\n",
    "breadth = float(input(\"Enter the breadth: \"))\n",
    "\n",
    "if length == breadth :\n",
    "    print(\"It is a square\")\n",
    "else :\n",
    "    print(\"It is a rectangle\")"
   ]
  },
  {
   "cell_type": "markdown",
   "id": "86637c20-15d4-4cf5-bd4f-a08aa2666702",
   "metadata": {},
   "source": [
    "10. Take two int values from user and print greatest among them."
   ]
  },
  {
   "cell_type": "code",
   "execution_count": 11,
   "id": "1176efa9-e858-45f1-83d6-99b8e9804c84",
   "metadata": {},
   "outputs": [
    {
     "name": "stdin",
     "output_type": "stream",
     "text": [
      "Enter your first number 12\n",
      "Enter your second number 22\n"
     ]
    },
    {
     "name": "stdout",
     "output_type": "stream",
     "text": [
      "22 is the greatest one\n"
     ]
    }
   ],
   "source": [
    "value1 = int(input(\"Enter your first number\"))\n",
    "value2 = int(input(\"Enter your second number\"))\n",
    "if value1 > value2:\n",
    "    print(f\"{value1} is the greatest one\")\n",
    "elif value2 > value1:\n",
    "    print(f\"{value2} is the greatest one\")\n",
    "else:\n",
    "    print(\"Both Values are equal\")"
   ]
  },
  {
   "cell_type": "markdown",
   "id": "462a3852-989e-49e6-9c97-48889b6f8e02",
   "metadata": {},
   "source": [
    "11. A shop will give discount of 10% if the cost of purchased quantity is more than 1000. Ask user for quantity Suppose, one unit will cost 100. Judge and print total cost for user"
   ]
  },
  {
   "cell_type": "code",
   "execution_count": 12,
   "id": "54e9b989-ce47-4041-a59d-5efce85042b6",
   "metadata": {},
   "outputs": [
    {
     "name": "stdin",
     "output_type": "stream",
     "text": [
      "Enter the quantity you want to purchase:  200\n"
     ]
    },
    {
     "name": "stdout",
     "output_type": "stream",
     "text": [
      "Discount of 10% applied. You saved 2000.00!\n",
      "Total cost: 18000.00\n"
     ]
    }
   ],
   "source": [
    "quantity = int(input(\"Enter the quantity you want to purchase: \"))\n",
    "unit_price = 100\n",
    "total_cost = quantity * unit_price\n",
    "\n",
    "if total_cost > 1000:\n",
    "    discount = total_cost * 0.10\n",
    "    total_cost -= discount\n",
    "    print(f\"Discount of 10% applied. You saved {discount:.2f}!\")\n",
    "else:\n",
    "    print(\"No discount applied.\")\n",
    "\n",
    "print(f\"Total cost: {total_cost:.2f}\")\n"
   ]
  },
  {
   "cell_type": "markdown",
   "id": "eaf167d4-d589-4f8f-9e51-51e0e1acc65a",
   "metadata": {},
   "source": [
    "12. A school has following rules for grading system:\n",
    "a. Below 25 - F\n",
    "\n",
    "b. 25 to 45 - E\n",
    "\n",
    "c. 45 to 50 - D\n",
    "\n",
    "d. 50 to 60 - C\n",
    "\n",
    "e. 60 to 80 - B\n",
    "\n",
    "f. Above 80 - A\n",
    "\n",
    "Ask user to enter marks and print the corresponding grade."
   ]
  },
  {
   "cell_type": "code",
   "execution_count": 13,
   "id": "a7fbb6de-7760-4ec7-83ee-b685d0c73d30",
   "metadata": {},
   "outputs": [
    {
     "name": "stdin",
     "output_type": "stream",
     "text": [
      "Enter Your English Number 90\n",
      "Enter Your English Number 80\n",
      "Enter Your English Number 77\n"
     ]
    },
    {
     "name": "stdout",
     "output_type": "stream",
     "text": [
      "Congratulation You achieve A Grade\n"
     ]
    }
   ],
   "source": [
    "English = int(input(\"Enter Your English Number\"))\n",
    "Islamiyat = int(input(\"Enter Your English Number\"))\n",
    "Maths = int(input(\"Enter Your English Number\"))\n",
    "Total_Marks = 300\n",
    "Subject_Total= (English + Islamiyat + Maths)\n",
    "Grand_Total = (Subject_Total / 300 * 100)\n",
    "\n",
    "if Grand_Total >=80 :\n",
    "    print(\"Congratulation You achieve A Grade\")\n",
    "elif Grand_Total >=60:\n",
    "    print(\"Congratulation You achieve B Grade\")\n",
    "elif Grand_Total >=50:\n",
    "    print(\"Congratulation You achieve C Grade\")\n",
    "elif Grand_Total >=45:\n",
    "    print(\"Congratulation You achieve D Grade\")\n",
    "elif Grand_Total >=25:\n",
    "    print(\"Congratulation You achieve E Grade\")\n",
    "else :\n",
    "    print(\"Sorry You are fail\")"
   ]
  },
  {
   "cell_type": "markdown",
   "id": "e03b5aa2-d4db-494b-bb11-436e9aae350a",
   "metadata": {},
   "source": [
    "14. A student will not be allowed to sit in exam if his/her attendence is less than 75%.\n",
    "\n",
    "Take following input from user\n",
    "\n",
    "Number of classes held\n",
    "\n",
    "Number of classes attended.\n",
    "\n",
    "And print\n",
    "\n",
    "percentage of class attended\n",
    "\n",
    "Is student is allowed to sit in exam or not."
   ]
  },
  {
   "cell_type": "code",
   "execution_count": 14,
   "id": "bf938b68-0499-428c-aa1b-447b2407ba36",
   "metadata": {},
   "outputs": [
    {
     "name": "stdin",
     "output_type": "stream",
     "text": [
      "Enter number of classes held 12\n",
      "Enter number of classes attend 11\n"
     ]
    },
    {
     "name": "stdout",
     "output_type": "stream",
     "text": [
      "Your'e allowed to sit in the exam\n"
     ]
    }
   ],
   "source": [
    "totalclass = int(input(\"Enter number of classes held\"))\n",
    "classesattend = int(input(\"Enter number of classes attend\"))\n",
    "percentage = (classesattend / totalclass) * 100\n",
    "if percentage <75 :\n",
    "    print(\"Your'e not allowed to sit in the exam\")\n",
    "else :\n",
    "    print(\"Your'e allowed to sit in the exam\")"
   ]
  },
  {
   "cell_type": "markdown",
   "id": "0e81f625-5e4e-4df8-9608-81923c9907dc",
   "metadata": {},
   "source": [
    "15. Modify the above question to allow student to sit if he/she has medical cause. Ask user if he/she has medical cause or not ( 'Y' or 'N' ) and print accordingly."
   ]
  },
  {
   "cell_type": "code",
   "execution_count": 16,
   "id": "e35a13ca-db3c-48b5-bdf6-5fea7b8b0ff7",
   "metadata": {},
   "outputs": [
    {
     "name": "stdin",
     "output_type": "stream",
     "text": [
      "Enter number of classes held:  12\n",
      "Enter number of classes attended:  1\n",
      "Do you have a medical cause? (Y/N):  Y\n"
     ]
    },
    {
     "name": "stdout",
     "output_type": "stream",
     "text": [
      "You're allowed to sit in the exam due to medical cause.\n"
     ]
    }
   ],
   "source": [
    "totalclass = int(input(\"Enter number of classes held: \"))\n",
    "classesattend = int(input(\"Enter number of classes attended: \"))\n",
    "\n",
    "percentage = (classesattend / totalclass) * 100\n",
    "\n",
    "if percentage < 75:\n",
    "    medical_cause = input(\"Do you have a medical cause? (Y/N): \")\n",
    "    if medical_cause == 'Y':\n",
    "        print(\"You're allowed to sit in the exam due to medical cause.\")\n",
    "    else:\n",
    "        print(\"You're not allowed to sit in the exam.\")\n",
    "else:\n",
    "    print(\"You're allowed to sit in the exam.\")\n"
   ]
  },
  {
   "cell_type": "markdown",
   "id": "7dd1310c-fbf3-4b91-ae57-5a2b21799ab6",
   "metadata": {},
   "source": [
    "16. Write a program to check if a year is leap year or not.\n",
    "If a year is divisible by 4 then it is leap year but if the year is century year like 2000, 1900, 2100 then it must be divisible by 400."
   ]
  },
  {
   "cell_type": "code",
   "execution_count": 17,
   "id": "42be006f-edde-4bfd-9a63-7352e3903f86",
   "metadata": {},
   "outputs": [
    {
     "name": "stdin",
     "output_type": "stream",
     "text": [
      "Enter a year to check if it's a leap year:  1999\n"
     ]
    },
    {
     "name": "stdout",
     "output_type": "stream",
     "text": [
      "1999 is not a leap year.\n"
     ]
    }
   ],
   "source": [
    "year = int(input(\"Enter a year to check if it's a leap year: \"))\n",
    "\n",
    "if (year % 4 == 0):\n",
    "    if (year % 100 == 0):\n",
    "        if (year % 400 == 0):\n",
    "            print(f\"{year} is a leap year.\")\n",
    "        else:\n",
    "            print(f\"{year} is not a leap year.\")\n",
    "    else:\n",
    "        print(f\"{year} is a leap year.\")\n",
    "else:\n",
    "    print(f\"{year} is not a leap year.\")\n"
   ]
  },
  {
   "cell_type": "markdown",
   "id": "8ff02312-d252-4f56-a0d9-b65c82e1d061",
   "metadata": {},
   "source": [
    "17. Ask user to enter age, gender ( M or F ), marital status ( Y or N ) and then using following rules print their place of service.\n",
    "if employee is female, then she will work only in urban areas.\n",
    "\n",
    "if employee is a male and age is in between 20 to 40 then he may work in anywhere\n",
    "\n",
    "if employee is male and age is in between 40 t0 60 then he will work in urban areas only.\n",
    "\n",
    "And any other input of age should print \"ERROR\""
   ]
  },
  {
   "cell_type": "code",
   "execution_count": 18,
   "id": "b97c2f9b-c9a8-4c74-a608-c57546a7e918",
   "metadata": {},
   "outputs": [
    {
     "name": "stdin",
     "output_type": "stream",
     "text": [
      "Enter your age:  21\n",
      "Enter your gender (M/F):  M\n",
      "Are you married? (Y/N):  Y\n"
     ]
    },
    {
     "name": "stdout",
     "output_type": "stream",
     "text": [
      "You may work anywhere.\n"
     ]
    }
   ],
   "source": [
    "# Input from user\n",
    "age = int(input(\"Enter your age: \"))\n",
    "gender = input(\"Enter your gender (M/F): \")\n",
    "marital_status = input(\"Are you married? (Y/N): \")\n",
    "\n",
    "# Decision logic\n",
    "if gender == 'F':\n",
    "    print(\"You will work only in urban areas.\")\n",
    "elif gender == 'M':\n",
    "    if 20 <= age <= 40:\n",
    "        print(\"You may work anywhere.\")\n",
    "    elif 40 < age <= 60:\n",
    "        print(\"You will work only in urban areas.\")\n",
    "    else:\n",
    "        print(\"ERROR: Invalid age for male employee.\")\n",
    "else:\n",
    "    print(\"ERROR: Invalid gender input.\")\n"
   ]
  },
  {
   "cell_type": "markdown",
   "id": "ccac0158-f3fe-4099-b064-fad91a20d37c",
   "metadata": {},
   "source": [
    "6. Write a program to calculate the electricity bill (accept number of unit from user) according to the following criteria : Unit Price\n",
    "uptp 100 units no charge Next 200 units Rs 5 per unit After 200 units Rs 10 per unit (For example if input unit is 350 than total bill amount is Rs.3500 (For example if input unit is 97 than total bill amount is Rs.0 (For example if input unit is 150 than total bill amount is Rs.750"
   ]
  },
  {
   "cell_type": "code",
   "execution_count": 19,
   "id": "8fa152dd-d9bd-45c7-8829-635c9387908c",
   "metadata": {},
   "outputs": [
    {
     "name": "stdin",
     "output_type": "stream",
     "text": [
      "Enter the number of units consumed:  201\n"
     ]
    },
    {
     "name": "stdout",
     "output_type": "stream",
     "text": [
      "Total bill amount is Rs. 505\n"
     ]
    }
   ],
   "source": [
    "units = int(input(\"Enter the number of units consumed: \"))\n",
    "bill = 0\n",
    "\n",
    "if units <= 100:\n",
    "    bill = 0\n",
    "elif units <= 300:\n",
    "    bill = (units - 100) * 5\n",
    "else:\n",
    "    bill = (200 * 5) + ((units - 300) * 10)\n",
    "\n",
    "print(f\"Total bill amount is Rs. {bill}\")\n"
   ]
  },
  {
   "cell_type": "markdown",
   "id": "ff0d24e2-50f1-40e3-baba-a722b4bc7b28",
   "metadata": {},
   "source": [
    "13. Take input of age of 3 people by user and determine oldest and youngest among them."
   ]
  },
  {
   "cell_type": "code",
   "execution_count": 20,
   "id": "36cb3d71-178a-428c-a5b1-173b49f725fd",
   "metadata": {},
   "outputs": [
    {
     "name": "stdin",
     "output_type": "stream",
     "text": [
      "Enter age of person 1:  20\n",
      "Enter age of person 2:  22\n",
      "Enter age of person 3:  33\n"
     ]
    },
    {
     "name": "stdout",
     "output_type": "stream",
     "text": [
      "The oldest person is 33 years old.\n",
      "The youngest person is 20 years old.\n"
     ]
    }
   ],
   "source": [
    "age1 = int(input(\"Enter age of person 1: \"))\n",
    "age2 = int(input(\"Enter age of person 2: \"))\n",
    "age3 = int(input(\"Enter age of person 3: \"))\n",
    "\n",
    "oldest = max(age1, age2, age3)\n",
    "\n",
    "youngest = min(age1, age2, age3)\n",
    "\n",
    "print(f\"The oldest person is {oldest} years old.\")\n",
    "print(f\"The youngest person is {youngest} years old.\")\n"
   ]
  },
  {
   "cell_type": "code",
   "execution_count": null,
   "id": "96f85d7a-52fa-48bf-a57d-8dabc6a7c92b",
   "metadata": {},
   "outputs": [],
   "source": []
  }
 ],
 "metadata": {
  "kernelspec": {
   "display_name": "Python 3 (ipykernel)",
   "language": "python",
   "name": "python3"
  },
  "language_info": {
   "codemirror_mode": {
    "name": "ipython",
    "version": 3
   },
   "file_extension": ".py",
   "mimetype": "text/x-python",
   "name": "python",
   "nbconvert_exporter": "python",
   "pygments_lexer": "ipython3",
   "version": "3.12.7"
  }
 },
 "nbformat": 4,
 "nbformat_minor": 5
}
